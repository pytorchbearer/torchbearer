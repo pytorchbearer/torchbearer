{
 "cells": [
  {
   "cell_type": "markdown",
   "metadata": {
    "colab_type": "text",
    "id": "bx-ZeOJAQGQS"
   },
   "source": [
    "Optimising functions\n",
    "====================================\n",
    "\n",
    "Now for something a bit different.\n",
    "PyTorch is a tensor processing library and whilst it has a focus on neural networks, it can also be used for more standard funciton optimisation.\n",
    "In this example we will use torchbearer to minimise a simple function.\n",
    "\n",
    "Imports\n",
    "--------------------------------"
   ]
  },
  {
   "cell_type": "code",
   "execution_count": null,
   "metadata": {
    "colab": {},
    "colab_type": "code",
    "id": "fFxbrOlcQNXY"
   },
   "outputs": [],
   "source": [
    "import torch\n",
    "from torch.nn import Module\n",
    "\n",
    "try:\n",
    "    import torchbearer\n",
    "except:\n",
    "    !pip install torchbearer\n",
    "    import torchbearer"
   ]
  },
  {
   "cell_type": "markdown",
   "metadata": {
    "colab_type": "text",
    "id": "cG3yqv0BQQVx"
   },
   "source": [
    "The Model\n",
    "----------------------------------------\n",
    "\n",
    "First we will need to create something that looks very similar to a neural network model - but with the purpose of minimising our function.\n",
    "We store the current estimates for the minimum as parameters in the model (so PyTorch optimisers can find and optimise them) and we return the function value in the forward method."
   ]
  },
  {
   "cell_type": "code",
   "execution_count": null,
   "metadata": {
    "colab": {},
    "colab_type": "code",
    "id": "F4BwVbzTQNv6"
   },
   "outputs": [],
   "source": [
    "ESTIMATE = torchbearer.state_key('est')\n",
    "\n",
    "\n",
    "class Net(Module):\n",
    "    def __init__(self, x):\n",
    "        super().__init__()\n",
    "        self.pars = torch.nn.Parameter(x)\n",
    "\n",
    "    def f(self):\n",
    "        \"\"\"\n",
    "        function to be minimised:\n",
    "        f(x) = (x[0]-5)^2 + x[1]^2 + (x[2]-1)^2\n",
    "        Solution:\n",
    "        x = [5,0,1]\n",
    "        \"\"\"\n",
    "        out = torch.zeros_like(self.pars)\n",
    "        out[0] = self.pars[0]-5\n",
    "        out[1] = self.pars[1]\n",
    "        out[2] = self.pars[2]-1\n",
    "        return torch.sum(out**2)\n",
    "\n",
    "    def forward(self, _, state):\n",
    "        state[ESTIMATE] = self.pars.detach().unsqueeze(1)\n",
    "        return self.f()"
   ]
  },
  {
   "cell_type": "markdown",
   "metadata": {
    "colab_type": "text",
    "id": "QNrgkSy0QX_O"
   },
   "source": [
    "The Loss\n",
    "----------------------------------------\n",
    "\n",
    "For function minimisation we have an analogue to neural network losses - we minimise the value of the function under the current estimates of the minimum.\n",
    "Note that as we are using a base loss, torchbearer passes this the network output and the \"label\" (which is of no use here).\n"
   ]
  },
  {
   "cell_type": "code",
   "execution_count": null,
   "metadata": {
    "colab": {},
    "colab_type": "code",
    "id": "IhU_8PFmQbcE"
   },
   "outputs": [],
   "source": [
    "def loss(y_pred, y_true):\n",
    "    return y_pred"
   ]
  },
  {
   "cell_type": "markdown",
   "metadata": {
    "colab_type": "text",
    "id": "hfTJ2GI_Qcej"
   },
   "source": [
    "Optimising\n",
    "----------------------------------------\n",
    "\n",
    "We need two more things before we can start optimising with torchbearer.\n",
    "We need our initial guess - which we've set to [2.0, 1.0, 10.0] and we need to tell torchbearer how \"long\" an epoch is - I.e. how many optimisation steps we want for each epoch.\n",
    "For our simple function, we can complete the optimisation in a single epoch, but for more complex optimisations we might want to take multiple epochs and include tensorboard logging and perhaps learning rate annealing to find a final solution.\n",
    "We have set the number of optimisation steps for this example as 50000.\n"
   ]
  },
  {
   "cell_type": "code",
   "execution_count": null,
   "metadata": {
    "colab": {},
    "colab_type": "code",
    "id": "vvRXozg6QgNV"
   },
   "outputs": [],
   "source": [
    "p = torch.tensor([2.0, 1.0, 10.0])\n",
    "training_steps = 50000"
   ]
  },
  {
   "cell_type": "markdown",
   "metadata": {
    "colab_type": "text",
    "id": "nGNScu9QQgbZ"
   },
   "source": [
    "The learning rate chosen for this example is very low and we could get convergence much faster with a larger rate, however this allows us to view convergence in real time.\n",
    "We define the model and optimiser in the standard way."
   ]
  },
  {
   "cell_type": "code",
   "execution_count": null,
   "metadata": {
    "colab": {},
    "colab_type": "code",
    "id": "vkmkfXkaQhou"
   },
   "outputs": [],
   "source": [
    "model = Net(p)\n",
    "optim = torch.optim.SGD(model.parameters(), lr=0.0001)"
   ]
  },
  {
   "cell_type": "markdown",
   "metadata": {
    "colab_type": "text",
    "id": "hFXAQAXqQi3H"
   },
   "source": [
    "Finally we start the optimising on the GPU and print the final minimum estimate."
   ]
  },
  {
   "cell_type": "code",
   "execution_count": null,
   "metadata": {
    "colab": {},
    "colab_type": "code",
    "id": "6DEGWh_rQkJV"
   },
   "outputs": [],
   "source": [
    "tbtrial = torchbearer.Trial(model, optim, loss, [torchbearer.metrics.running_mean(ESTIMATE, dim=1), 'loss'])\n",
    "tbtrial.for_train_steps(training_steps).to('cuda')\n",
    "tbtrial.run()\n",
    "print(list(model.parameters())[0].data)"
   ]
  },
  {
   "cell_type": "markdown",
   "metadata": {
    "colab_type": "text",
    "id": "hTd6TJyWQlQC"
   },
   "source": [
    "Viewing Progress\n",
    "--------------------------------------------\n",
    "\n",
    "You might have noticed in the previous snippet that the example uses a metric we've not seen before."
   ]
  },
  {
   "cell_type": "code",
   "execution_count": null,
   "metadata": {
    "colab": {},
    "colab_type": "code",
    "id": "kOFzw8iDQ2D9"
   },
   "outputs": [],
   "source": [
    "0/1(t): 100%|██████████| 50000/50000 [00:53<00:00, 931.36it/s, loss=4.5502, running_est=[4.9988, 0.0, 1.0004], running_loss=0.0]"
   ]
  },
  {
   "cell_type": "code",
   "execution_count": null,
   "metadata": {
    "colab": {},
    "colab_type": "code",
    "id": "pqm2GJCIQn_t"
   },
   "outputs": [],
   "source": []
  }
 ],
 "metadata": {
  "colab": {
   "name": "basic_opt",
   "provenance": [],
   "version": "0.3.2"
  },
  "kernelspec": {
   "display_name": "Python 3",
   "language": "python",
   "name": "python3"
  },
  "language_info": {
   "codemirror_mode": {
    "name": "ipython",
    "version": 3
   },
   "file_extension": ".py",
   "mimetype": "text/x-python",
   "name": "python",
   "nbconvert_exporter": "python",
   "pygments_lexer": "ipython3",
   "version": "3.6.8"
  }
 },
 "nbformat": 4,
 "nbformat_minor": 1
}
