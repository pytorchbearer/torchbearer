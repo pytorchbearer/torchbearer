{
  "nbformat": 4,
  "nbformat_minor": 0,
  "metadata": {
    "colab": {
      "name": "svm_linear.ipynb",
      "version": "0.3.2",
      "provenance": []
    },
    "kernelspec": {
      "name": "python3",
      "display_name": "Python 3"
    }
  },
  "cells": [
    {
      "cell_type": "markdown",
      "metadata": {
        "id": "NYJWmpEfR9lJ",
        "colab_type": "text"
      },
      "source": [
        "Linear Support Vector Machine (SVM)\n",
        "===================================\n",
        "\n",
        "We've seen how to frame a problem as a differentiable program in the optimising functions example. \n",
        "Now we can take a look a more usable example; a linear Support Vector Machine (SVM). Note that the model and loss used\n",
        "in this guide are based on the code found [here](https://github.com/kazuto1011/svm-pytorch).\n",
        "\n",
        "SVM Recap\n",
        "----------------------------\n",
        "\n",
        "Recall that an SVM tries to find the maximum margin hyperplane which separates the data classes. For a soft margin SVM\n",
        "where $\\textbf{x}$ is our data, we minimize:\n",
        "\n",
        "\\begin{equation}\n",
        "\\left[\\frac 1 n \\sum_{i=1}^n \\max\\left(0, 1 - y_i(\\textbf{w}\\cdot \\textbf{x}_i - b)\\right) \\right] + \\lambda\\lVert \\textbf{w} \\rVert^2\n",
        "\\end{equation}\n",
        "\n",
        "We can formulate this as an optimization over our weights $\\textbf{w}$ and bias $b$, where we minimize the\n",
        "hinge loss subject to a level 2 weight decay term. The hinge loss for some model outputs\n",
        "$z = \\textbf{w}\\textbf{x} + b$ with targets $y$ is given by:\n",
        "\n",
        "\\begin{equation}\n",
        "\\ell(y,z) = \\max\\left(0, 1 - yz \\right)\n",
        "\\end{equation}\n",
        "\n",
        "Imports \n",
        "-----------------------------\n",
        "Lets first import all the necessary packages for this example."
      ]
    },
    {
      "cell_type": "code",
      "metadata": {
        "id": "537TPWEDStHd",
        "colab_type": "code",
        "colab": {}
      },
      "source": [
        "import matplotlib\n",
        "import matplotlib.pyplot as plt\n",
        "import numpy as np\n",
        "import torch\n",
        "import torch.nn as nn\n",
        "import torch.optim as optim\n",
        "from sklearn.datasets.samples_generator import make_blobs\n",
        "\n",
        "try:\n",
        "  import torchbearer\n",
        "except:\n",
        "  !pip install torchbearer\n",
        "  import torchbearer\n",
        "import torchbearer.callbacks as callbacks\n",
        "from torchbearer import Trial\n",
        "from torchbearer.callbacks import L2WeightDecay, ExponentialLR"
      ],
      "execution_count": 0,
      "outputs": []
    },
    {
      "cell_type": "markdown",
      "metadata": {
        "id": "a31Upx80S0Wf",
        "colab_type": "text"
      },
      "source": [
        "Defining the Model\n",
        "----------------------------------------\n",
        "\n",
        "Let's put this into code. First we can define our module which will project the data through our weights and offset by\n",
        "a bias. Note that this is identical to the function of a linear layer."
      ]
    },
    {
      "cell_type": "code",
      "metadata": {
        "id": "27hRy0i8Sze4",
        "colab_type": "code",
        "colab": {}
      },
      "source": [
        "class LinearSVM(nn.Module):\n",
        "    \"\"\"Support Vector Machine\"\"\"\n",
        "\n",
        "    def __init__(self):\n",
        "        super(LinearSVM, self).__init__()\n",
        "        self.w = nn.Parameter(torch.randn(1, 2), requires_grad=True)\n",
        "        self.b = nn.Parameter(torch.randn(1), requires_grad=True)\n",
        "\n",
        "    def forward(self, x):\n",
        "        h = x.matmul(self.w.t()) + self.b\n",
        "        return h"
      ],
      "execution_count": 0,
      "outputs": []
    },
    {
      "cell_type": "markdown",
      "metadata": {
        "id": "PyfrGG7uS59t",
        "colab_type": "text"
      },
      "source": [
        "Next, we define the hinge loss function:"
      ]
    },
    {
      "cell_type": "code",
      "metadata": {
        "id": "a-0v2QecS6YP",
        "colab_type": "code",
        "colab": {}
      },
      "source": [
        "def hinge_loss(y_pred, y_true):\n",
        "    return torch.mean(torch.clamp(1 - y_pred.t() * y_true, min=0))"
      ],
      "execution_count": 0,
      "outputs": []
    },
    {
      "cell_type": "markdown",
      "metadata": {
        "id": "diJonMlwS7z4",
        "colab_type": "text"
      },
      "source": [
        "Creating Synthetic Data\n",
        "-----------------------------------------------\n",
        "\n",
        "Now for some data, 1024 samples should do the trick. We normalise here so that our random init is in the same space as\n",
        "the data:"
      ]
    },
    {
      "cell_type": "code",
      "metadata": {
        "id": "U4U7FpoiS946",
        "colab_type": "code",
        "colab": {}
      },
      "source": [
        "X, Y = make_blobs(n_samples=1024, centers=2, cluster_std=1.2, random_state=1)\n",
        "X = (X - X.mean()) / X.std()\n",
        "Y[np.where(Y == 0)] = -1\n",
        "X, Y = torch.FloatTensor(X), torch.FloatTensor(Y)"
      ],
      "execution_count": 0,
      "outputs": []
    },
    {
      "cell_type": "markdown",
      "metadata": {
        "id": "GAdaOug0S_Nf",
        "colab_type": "text"
      },
      "source": [
        "Subgradient Descent\n",
        "----------------------------------------------\n",
        "\n",
        "Since we don't know that our data is linearly separable, we would like to use a soft-margin SVM. That is, an SVM for\n",
        "which the data does not all have to be outside of the margin. This takes the form of a weight decay term,\n",
        "$\\lambda\\lVert \\textbf{w} \\rVert^2$ in the above equation. This term is called weight decay because the gradient\n",
        "corresponds to subtracting some amount ($2\\lambda\\textbf{w}$) from our weights at each step. With torchbearer we\n",
        "can use the `L2WeightDecay` callback to do this. This whole process is known as subgradient descent because we\n",
        "only use a mini-batch (of size 32 in our example) at each step to approximate the gradient over all of the data. This is\n",
        "proven to converge to the minimum for convex functions such as our SVM. At this point we are ready to create and train\n",
        "our model:"
      ]
    },
    {
      "cell_type": "code",
      "metadata": {
        "id": "gpKBohTtTHdr",
        "colab_type": "code",
        "colab": {}
      },
      "source": [
        "svm = LinearSVM()\n",
        "model = Trial(svm, optim.SGD(svm.parameters(), 0.1), hinge_loss, ['loss'],\n",
        "              callbacks=[scatter, draw_margin, ExponentialLR(0.999, step_on_batch=True), L2WeightDecay(0.01, params=[svm.w])]).to('cuda')\n",
        "model.with_train_data(X, Y, batch_size=32)\n",
        "model.run(epochs=50, verbose=1)\n",
        "\n",
        "plt.ioff()\n",
        "plt.show()"
      ],
      "execution_count": 0,
      "outputs": []
    },
    {
      "cell_type": "markdown",
      "metadata": {
        "id": "OR_iJX_6TJRF",
        "colab_type": "text"
      },
      "source": [
        "Visualizing the Training\n",
        "----------------------------------------\n",
        "\n",
        "You might have noticed some strange things in the `Trial` callbacks list. Specifically, we use the\n",
        "`ExponentialLR` callback to anneal the convergence a little and we have a couple of other callbacks:\n",
        "`scatter` and `draw_margin`. These callbacks produce the following live visualisation (note, doesn't work in\n",
        "PyCharm, best run from terminal):\n",
        "\n",
        "![svmgif](https://raw.githubusercontent.com/ecs-vlc/torchbearer/master/docs/_static/img/svm_fit.gif)\n",
        "\n",
        "The code for the visualisation (using [pyplot](https://matplotlib.org/api/pyplot_api.html)) is a bit ugly but we'll\n",
        "try to explain it to some degree. First, we need a mesh grid `xy` over the range of our data:"
      ]
    },
    {
      "cell_type": "code",
      "metadata": {
        "id": "9WWuOIt5TeAA",
        "colab_type": "code",
        "colab": {}
      },
      "source": [
        "delta = 0.01\n",
        "x = np.arange(X[:, 0].min(), X[:, 0].max(), delta)\n",
        "y = np.arange(X[:, 1].min(), X[:, 1].max(), delta)\n",
        "x, y = np.meshgrid(x, y)\n",
        "xy = list(map(np.ravel, [x, y]))"
      ],
      "execution_count": 0,
      "outputs": []
    },
    {
      "cell_type": "markdown",
      "metadata": {
        "id": "ntJJMabUTvBO",
        "colab_type": "text"
      },
      "source": [
        "Next, we have the scatter callback. This happens once at the start of our fit call and draws the figure with a scatter plot of our data:"
      ]
    },
    {
      "cell_type": "code",
      "metadata": {
        "id": "2arAHbkOTwi2",
        "colab_type": "code",
        "colab": {}
      },
      "source": [
        "@callbacks.on_start\n",
        "def scatter(_):\n",
        "    plt.figure(figsize=(5, 5))\n",
        "    plt.ion()\n",
        "    plt.scatter(x=X[:, 0], y=X[:, 1], c=\"black\", s=10)"
      ],
      "execution_count": 0,
      "outputs": []
    },
    {
      "cell_type": "markdown",
      "metadata": {
        "id": "Wm9gBsuzTy7t",
        "colab_type": "text"
      },
      "source": [
        "Now things get a little strange. We start by evaluating our model over the mesh grid from earlier.\n",
        "\n",
        "For our outputs $z \\in \\textbf{Z}$, we can make some observations about the decision boundary. First, that we are\n",
        "outside the margin if $z \\lt -1$ or $z \\gt 1$. Conversely, we are inside the margine where $z \\gt -1$\n",
        "or $z \\lt 1$. \n",
        "\n",
        "The next bit is a bit of a hack to get the update of the contour plot working. If a reference to the plot is already in state we just remove the old one and add a new one, otherwise we add it and show the plot. Finally, we call mypause to trigger an update. You could just use plt.pause, however, it grabs the mouse focus each time it is called which can be annoying. Instead, mypause is taken from stackoverflow.\n",
        "\n",
        "This whole process is shown in the callback below:\n"
      ]
    },
    {
      "cell_type": "code",
      "metadata": {
        "id": "QEcC8BsoTzQ9",
        "colab_type": "code",
        "colab": {}
      },
      "source": [
        "@callbacks.on_step_training\n",
        "def draw_margin(state):\n",
        "    if state[torchbearer.BATCH] % 10 == 0:\n",
        "        w = state[torchbearer.MODEL].w[0].detach().to('cpu').numpy()\n",
        "        b = state[torchbearer.MODEL].b[0].detach().to('cpu').numpy()\n",
        "        z = (w.dot(xy) + b).reshape(x.shape)\n",
        "        z[np.where(z > 1.)] = 4\n",
        "        z[np.where((z > 0.) & (z <= 1.))] = 3\n",
        "        z[np.where((z > -1.) & (z <= 0.))] = 2\n",
        "        z[np.where(z <= -1.)] = 1\n",
        "        if CONTOUR in state:\n",
        "            for coll in state[CONTOUR].collections:\n",
        "                coll.remove()\n",
        "            state[CONTOUR] = plt.contourf(x, y, z, cmap=plt.cm.jet, alpha=0.5)\n",
        "        else:\n",
        "            state[CONTOUR] = plt.contourf(x, y, z, cmap=plt.cm.jet, alpha=0.5)\n",
        "            plt.tight_layout()\n",
        "            plt.show()\n",
        "\n",
        "        mypause(0.001)"
      ],
      "execution_count": 0,
      "outputs": []
    },
    {
      "cell_type": "markdown",
      "metadata": {
        "id": "tZwqaO7pT0le",
        "colab_type": "text"
      },
      "source": [
        "Final Comments\n",
        "------------------------------------\n",
        "\n",
        "So, there you have it, a fun differentiable programming example with a live visualisation in under 100 lines of code\n",
        "with torchbearer. It's easy to see how this could become more useful, perhaps finding a way to use the kernel trick with\n",
        "the standard form of an SVM (essentially an RBF network). You could also attempt to write some code that saves the gif\n",
        "from earlier. We had some but it was beyond a hack, can you do better?"
      ]
    }
  ]
}