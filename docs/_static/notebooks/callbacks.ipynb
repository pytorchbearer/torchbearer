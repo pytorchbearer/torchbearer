{
 "cells": [
  {
   "cell_type": "markdown",
   "metadata": {},
   "source": [
    "# Callbacks in torchbearer\n",
    "\n",
    "This guide will give a detailed introduction to callbacks in torchbearer. We'll start with the basics, before going in to some more advanced use cases.\n",
    "\n",
    "**Note**: The easiest way to use this tutorial is as a colab notebook, which allows you to dive in with no setup. You won't need a GPU for these examples.\n",
    "\n",
    "## Install Torchbearer\n",
    "\n",
    "First we install torchbearer if needed. "
   ]
  },
  {
   "cell_type": "code",
   "execution_count": 1,
   "metadata": {},
   "outputs": [
    {
     "name": "stdout",
     "output_type": "stream",
     "text": [
      "0.3.2\n"
     ]
    }
   ],
   "source": [
    "try:\n",
    "    import torchbearer\n",
    "except:\n",
    "    !pip install -q torchbearer\n",
    "    import torchbearer\n",
    "    \n",
    "print(torchbearer.__version__)"
   ]
  },
  {
   "cell_type": "markdown",
   "metadata": {},
   "source": [
    "## The Callback Class\n",
    "\n",
    "In torchbearer, callbacks are any object which extends / implements [`Callback`](https://torchbearer.readthedocs.io/en/latest/code/callbacks.html#torchbearer.bases.Callback). These objects have methods which are each called at different points during the training process. Here's the list:"
   ]
  },
  {
   "cell_type": "code",
   "execution_count": 2,
   "metadata": {},
   "outputs": [
    {
     "name": "stdout",
     "output_type": "stream",
     "text": [
      "['on_backward', 'on_checkpoint', 'on_criterion', 'on_criterion_validation', 'on_end', 'on_end_epoch', 'on_end_training', 'on_end_validation', 'on_forward', 'on_forward_validation', 'on_init', 'on_sample', 'on_sample_validation', 'on_start', 'on_start_epoch', 'on_start_training', 'on_start_validation', 'on_step_training', 'on_step_validation']\n"
     ]
    }
   ],
   "source": [
    "from torchbearer import Callback\n",
    "\n",
    "print([method for method in dir(Callback) if str.startswith(method, 'on')])"
   ]
  },
  {
   "cell_type": "markdown",
   "metadata": {},
   "source": [
    "If we want to know more about one of the callback points, we can look in [the docs](https://torchbearer.readthedocs.io/en/latest/code/callbacks.html#torchbearer.bases.Callback), or just use the help builtin."
   ]
  },
  {
   "cell_type": "code",
   "execution_count": 3,
   "metadata": {},
   "outputs": [
    {
     "name": "stdout",
     "output_type": "stream",
     "text": [
      "Help on function on_backward in module torchbearer.bases:\n",
      "\n",
      "on_backward(self, state)\n",
      "    Perform some action with the given state as context after backward has been called on the loss.\n",
      "    \n",
      "    Args:\n",
      "        state (dict): The current state dict of the :class:`.Trial`.\n",
      "\n"
     ]
    }
   ],
   "source": [
    "help(Callback.on_backward)"
   ]
  },
  {
   "cell_type": "markdown",
   "metadata": {},
   "source": [
    "Callback points are functions of state. This is the state dictionary that sits at the heart of torchbearer. The contents of state change for each callback point and it can be modified with callbacks. This means that you can change or customise much of the functionality of torchbearer just using callbacks.\n",
    "\n",
    "### Decorators\n",
    "\n",
    "Often when using callbacks, we don't really want to deal with them as classes. Instead, we might want to just treat a callback as a function. We can do this using the [decorator API](https://torchbearer.readthedocs.io/en/latest/code/callbacks.html#decorators). These are decorators which let you use a function at a specific (or multiple specific) callback point(s). We'll see some uses of callback decorators in our third example.\n",
    "\n",
    "### Callback State\n",
    "\n",
    "Two methods we haven't covered are `state_dict` and `load_state_dict`. These are methods which can be used to serialise and restore the state of callback when the `Trial` is saved. Since state isn't persistent, everything in it needs to be reloaded whenever `run` is called or the `Trial` is reloaded. For that reason, any callback which needs persistence should implement `state_dict` and `load_state_dict`."
   ]
  },
  {
   "cell_type": "markdown",
   "metadata": {},
   "source": [
    "## Example: Contents of state\n",
    "\n",
    "For our first example, lets create a quick callback which just tells us the keys that are in state"
   ]
  },
  {
   "cell_type": "code",
   "execution_count": 4,
   "metadata": {},
   "outputs": [],
   "source": [
    "class KeyCache(Callback):\n",
    "    def __init__(self):\n",
    "        self.keys = {}\n",
    "    \n",
    "    def __getattribute__(self, name):\n",
    "        if str.startswith(name, 'on'):\n",
    "            def callback(state):\n",
    "                self.keys[getattr(Callback, name)] = list(state.keys())\n",
    "            return callback\n",
    "        else:\n",
    "            return super().__getattribute__(name)"
   ]
  },
  {
   "cell_type": "markdown",
   "metadata": {},
   "source": [
    "To use our callback we create an empty `Trial` object. The only thing a trial needs to be run is a model, so we create an empty model to test. "
   ]
  },
  {
   "cell_type": "code",
   "execution_count": 5,
   "metadata": {},
   "outputs": [
    {
     "data": {
      "application/vnd.jupyter.widget-view+json": {
       "model_id": "8f2fae212a844473a49b58378afaaa43",
       "version_major": 2,
       "version_minor": 0
      },
      "text/plain": [
       "HBox(children=(IntProgress(value=0, description='0/1(t)', max=1), HTML(value='')))"
      ]
     },
     "metadata": {},
     "output_type": "display_data"
    },
    {
     "name": "stdout",
     "output_type": "stream",
     "text": [
      "\n"
     ]
    }
   ],
   "source": [
    "import torch.nn as nn\n",
    "\n",
    "class EmptyModel(nn.Module):\n",
    "    def forward(self, x):\n",
    "        return None\n",
    "\n",
    "from torchbearer import Trial\n",
    "\n",
    "cache = KeyCache()\n",
    "trial = Trial(EmptyModel(), callbacks=[cache]).for_train_steps(1)\n",
    "_ = trial.run()"
   ]
  },
  {
   "cell_type": "markdown",
   "metadata": {},
   "source": [
    "`for_train_steps(1)` in the above example tells the `Trial` to run one batch of training per epoch. Since we haven't provided any data, the model will be given `None` and since there is no loss function, the model outputs will be ignored. The `callbacks` argument takes a list of `Callback` objects, internally this uses the [`CallbackList` class](https://torchbearer.readthedocs.io/en/latest/code/callbacks.html#torchbearer.callbacks.callbacks.CallbackList).\n",
    "\n",
    "Now that we have our dictionary, we can print the available state keys for different callback points. For example:"
   ]
  },
  {
   "cell_type": "code",
   "execution_count": 6,
   "metadata": {},
   "outputs": [
    {
     "name": "stdout",
     "output_type": "stream",
     "text": [
      "[max_epochs, stop_training, model, criterion, optimizer, metric_list, callback_list, device, dtype, self, history, backward_args, train_generator, validation_generator, test_generator, train_steps, validation_steps, test_steps, train_data, validation_data, test_data, inf_train_loading, epoch]\n"
     ]
    }
   ],
   "source": [
    "print(cache.keys[Callback.on_start_epoch])"
   ]
  },
  {
   "cell_type": "markdown",
   "metadata": {},
   "source": [
    "Each of these keys contains a value relating to the training process of the model. For example`*_generator` contain the data loaders that have been passed to the trial. The full list of these keys can be found [here](https://torchbearer.readthedocs.io/en/latest/code/main.html#module-torchbearer.state). They're printed as strings here, but state should be accessed with [`StateKey`](https://torchbearer.readthedocs.io/en/latest/code/main.html#torchbearer.state.StateKey) objects to prevent collisions. For example, `device` becomes `torchbearer.DEVICE`."
   ]
  },
  {
   "cell_type": "markdown",
   "metadata": {},
   "source": [
    "## Example: Call Order\n",
    "\n",
    "In this example, we'll create a quick logging callback that we can use to show the order that each callback function is triggered. We could also use something like this to check which parts of our training process take the most time. We first define and run our callback. **Note** that we use a validation and test step here aswell to see all of the callbacks."
   ]
  },
  {
   "cell_type": "code",
   "execution_count": 7,
   "metadata": {},
   "outputs": [
    {
     "data": {
      "application/vnd.jupyter.widget-view+json": {
       "model_id": "7bf1cc52f1e74254b6b64d45fa1e7529",
       "version_major": 2,
       "version_minor": 0
      },
      "text/plain": [
       "HBox(children=(IntProgress(value=0, max=1), HTML(value='')))"
      ]
     },
     "metadata": {},
     "output_type": "display_data"
    },
    {
     "name": "stdout",
     "output_type": "stream",
     "text": [
      "\n"
     ]
    },
    {
     "data": {
      "application/vnd.jupyter.widget-view+json": {
       "model_id": "195c06f28ebc41f38cd018b2b82eda6d",
       "version_major": 2,
       "version_minor": 0
      },
      "text/plain": [
       "HBox(children=(IntProgress(value=0, max=1), HTML(value='')))"
      ]
     },
     "metadata": {},
     "output_type": "display_data"
    },
    {
     "name": "stdout",
     "output_type": "stream",
     "text": [
      "\n"
     ]
    }
   ],
   "source": [
    "import torchbearer\n",
    "import time\n",
    "\n",
    "class Timer(Callback):\n",
    "    def __init__(self):\n",
    "        self.names = []\n",
    "        self.times = []\n",
    "        \n",
    "        self.t0 = time.time()\n",
    "    \n",
    "    def __getattribute__(self, name):\n",
    "        if str.startswith(name, 'on'):\n",
    "            def callback(state):\n",
    "                self.names.append(name)\n",
    "                self.times.append(time.time() - self.t0)\n",
    "                # Sleep a bit to prevent the callbacks bunching up, remove this line for accurate timing\n",
    "                time.sleep(0.01)\n",
    "            return callback\n",
    "        else:\n",
    "            return super().__getattribute__(name)\n",
    "        \n",
    "import torch.nn as nn\n",
    "\n",
    "class EmptyModel(nn.Module):\n",
    "    def forward(self, x):\n",
    "        return None\n",
    "\n",
    "from torchbearer import Trial\n",
    "\n",
    "timer = Timer()\n",
    "trial = Trial(EmptyModel(), callbacks=[timer], verbose=1).for_steps(1, 1, 1)\n",
    "_ = trial.run()\n",
    "_ = trial.evaluate(data_key=torchbearer.TEST_DATA)"
   ]
  },
  {
   "cell_type": "markdown",
   "metadata": {},
   "source": [
    "And now with a bit of matplotlib (largely stolen from [here](https://matplotlib.org/3.1.0/gallery/lines_bars_and_markers/timeline.html)), we can see the order that each callback point was triggered."
   ]
  },
  {
   "cell_type": "code",
   "execution_count": 8,
   "metadata": {},
   "outputs": [
    {
     "data": {
      "image/png": "[encoded data removed]",
      "text/plain": [
       "<Figure size 1296x432 with 1 Axes>"
      ]
     },
     "metadata": {
      "needs_background": "light"
     },
     "output_type": "display_data"
    }
   ],
   "source": [
    "%matplotlib inline\n",
    "import matplotlib.pyplot as plt\n",
    "import numpy as np\n",
    "\n",
    "levels = np.tile([-5, 5, -3, 3, -1, 1],\n",
    "                 int(np.ceil(len(timer.times)/6)))[:len(timer.times)]\n",
    "\n",
    "fig, ax = plt.subplots(figsize=(18, 6), constrained_layout=True)\n",
    "ax.set(title=\"Callback Times\")\n",
    "markerline, stemline, baseline = ax.stem(timer.times, levels,\n",
    "                                         linefmt=\"C3-\", basefmt=\"k-\")\n",
    "\n",
    "plt.setp(markerline, mec=\"k\", mfc=\"w\", zorder=3)\n",
    "\n",
    "vert = np.array(['top', 'bottom'])[(levels > 0).astype(int)]\n",
    "for d, l, r, va in zip(timer.times, levels, timer.names, vert):\n",
    "    ax.annotate(r, xy=(d, l), xytext=(-3, np.sign(l)*3),\n",
    "                textcoords=\"offset points\", va=va, ha=\"right\")\n",
    "\n",
    "ax.get_yaxis().set_visible(False)\n",
    "ax.get_xaxis().set_visible(False)\n",
    "\n",
    "for spine in [\"left\", \"top\", \"right\"]:\n",
    "    ax.spines[spine].set_visible(False)\n",
    "\n",
    "plt.show()\n",
    "fig.savefig('timeline.png')"
   ]
  },
  {
   "cell_type": "markdown",
   "metadata": {},
   "source": [
    "From the graph we can see that most callback points will get called multiple times during the life of a `Trial`. The only callback which gets called once is `on_init`. Incidentally, `on_init` is also the only callback which can mutate the root level `Trial` state. That is, anything you put in state here will be present in every call to `run` or `evaluate`.  "
   ]
  },
  {
   "cell_type": "markdown",
   "metadata": {},
   "source": [
    "## Example: Decorators\n",
    "\n",
    "In this example, we have a look at some of the powerful things you can do with callback decorators in torchbearer. These are decorators which can turn a function of state into a callback at a specific point. For example, suppose we want to run something on forward during training and validation, we can do the following:"
   ]
  },
  {
   "cell_type": "code",
   "execution_count": 9,
   "metadata": {},
   "outputs": [
    {
     "data": {
      "application/vnd.jupyter.widget-view+json": {
       "model_id": "2a6dd476c0694b1b98be74f5793b79a5",
       "version_major": 2,
       "version_minor": 0
      },
      "text/plain": [
       "HBox(children=(IntProgress(value=0, max=1), HTML(value='')))"
      ]
     },
     "metadata": {},
     "output_type": "display_data"
    },
    {
     "name": "stdout",
     "output_type": "stream",
     "text": [
      "Should be printed twice\n",
      "Should be printed twice\n",
      "\n"
     ]
    }
   ],
   "source": [
    "from torchbearer import callbacks\n",
    "\n",
    "@callbacks.on_forward\n",
    "@callbacks.on_forward_validation\n",
    "def my_callback(state):\n",
    "    print('Should be printed twice')\n",
    "\n",
    "import torch.nn as nn\n",
    "\n",
    "class EmptyModel(nn.Module):\n",
    "    def forward(self, x):\n",
    "        return None\n",
    "\n",
    "from torchbearer import Trial\n",
    "\n",
    "trial = Trial(EmptyModel(), callbacks=[my_callback], verbose=1).for_steps(1, 1)\n",
    "_ = trial.run()"
   ]
  },
  {
   "cell_type": "markdown",
   "metadata": {},
   "source": [
    "You can chain as many of the decorators as required, and there is one for each of the callback points.\n",
    "\n",
    "### Advanced Decorators\n",
    "\n",
    "Sometimes you want a bit more power than you get with just a simple callback point. In that case you can use some of the advanced decorators in torchbearer. These are: [`add_to_loss`](https://torchbearer.readthedocs.io/en/latest/code/callbacks.html#torchbearer.callbacks.decorators.add_to_loss), [`once`](https://torchbearer.readthedocs.io/en/latest/code/callbacks.html#torchbearer.callbacks.decorators.once), [`once_per_epoch`](https://torchbearer.readthedocs.io/en/latest/code/callbacks.html#torchbearer.callbacks.decorators.once_per_epoch) and [`only_if`](https://torchbearer.readthedocs.io/en/latest/code/callbacks.html#torchbearer.callbacks.decorators.only_if). Let's have a look at them in more detail\n",
    "\n",
    "#### `add_to_loss`\n",
    "\n",
    "The add to loss decorator is used to add the result of a function to the loss at the end of each step. This is useful if you have a loss that is made up of multiple terms (e.g. when training VAEs) that you would like to treat seperately. In this example, we just add a number to the loss each time."
   ]
  },
  {
   "cell_type": "code",
   "execution_count": 10,
   "metadata": {},
   "outputs": [
    {
     "data": {
      "application/vnd.jupyter.widget-view+json": {
       "model_id": "06594dbcc6ec4da0940f7923969176a8",
       "version_major": 2,
       "version_minor": 0
      },
      "text/plain": [
       "HBox(children=(IntProgress(value=0, max=1), HTML(value='')))"
      ]
     },
     "metadata": {},
     "output_type": "display_data"
    },
    {
     "name": "stdout",
     "output_type": "stream",
     "text": [
      "tensor([10.], grad_fn=<AddBackward0>)\n",
      "\n"
     ]
    }
   ],
   "source": [
    "import torch\n",
    "import torchbearer\n",
    "from torchbearer import callbacks\n",
    "\n",
    "@callbacks.add_to_loss  # ADD TO LOSS\n",
    "def my_callback(state):\n",
    "    return torch.ones(1) * 10\n",
    "\n",
    "@callbacks.on_step_training\n",
    "def print_loss(state):\n",
    "    print(state[torchbearer.LOSS])\n",
    "    \n",
    "import torch.nn as nn\n",
    "\n",
    "class EmptyModel(nn.Module):\n",
    "    def forward(self, x):\n",
    "        return None\n",
    "\n",
    "from torchbearer import Trial\n",
    "\n",
    "trial = Trial(EmptyModel(), callbacks=[my_callback, print_loss], verbose=1).for_steps(1, 1)\n",
    "_ = trial.run()"
   ]
  },
  {
   "cell_type": "markdown",
   "metadata": {},
   "source": [
    "#### `once` and `once_per_epoch`\n",
    "\n",
    "The once and once per epoch decorators are used to call a function either once ever, or once each epoch respectively. For these, you need to also use one of the other decorators to tell it *when* to run the callback. They don't persist, so use a `once` callback the same way you would use something like `on_init`."
   ]
  },
  {
   "cell_type": "code",
   "execution_count": 11,
   "metadata": {},
   "outputs": [
    {
     "data": {
      "application/vnd.jupyter.widget-view+json": {
       "model_id": "dff234a898434e98975f1d788abeaeed",
       "version_major": 2,
       "version_minor": 0
      },
      "text/plain": [
       "HBox(children=(IntProgress(value=0, max=3), HTML(value='')))"
      ]
     },
     "metadata": {},
     "output_type": "display_data"
    },
    {
     "name": "stdout",
     "output_type": "stream",
     "text": [
      "once\n",
      "once per epoch\n",
      "once per epoch\n",
      "once per epoch\n",
      "\n"
     ]
    }
   ],
   "source": [
    "import torch\n",
    "import torchbearer\n",
    "from torchbearer import callbacks\n",
    "\n",
    "@callbacks.once  # ONCE\n",
    "@callbacks.on_step_training\n",
    "def print_once(state):\n",
    "    print('once')\n",
    "\n",
    "@callbacks.once_per_epoch  # ONCE PER EPOCH\n",
    "@callbacks.on_step_training\n",
    "def print_once_per_epoch(state):\n",
    "    print('once per epoch')\n",
    "    \n",
    "import torch.nn as nn\n",
    "\n",
    "class EmptyModel(nn.Module):\n",
    "    def forward(self, x):\n",
    "        return None\n",
    "\n",
    "from torchbearer import Trial\n",
    "\n",
    "trial = Trial(EmptyModel(), callbacks=[print_once, print_once_per_epoch], verbose=1).for_steps(1, 1)\n",
    "_ = trial.run(3)"
   ]
  },
  {
   "cell_type": "markdown",
   "metadata": {},
   "source": [
    "#### `only_if`\n",
    "\n",
    "The final advanced decorator is `only_if`, this will run the callback **only** if the given predicate (a function of state) is `True`. Here's an example:"
   ]
  },
  {
   "cell_type": "code",
   "execution_count": 12,
   "metadata": {},
   "outputs": [
    {
     "data": {
      "application/vnd.jupyter.widget-view+json": {
       "model_id": "280d1d93a85b4ef38a93d68d4ee85707",
       "version_major": 2,
       "version_minor": 0
      },
      "text/plain": [
       "HBox(children=(IntProgress(value=0, max=1), HTML(value='')))"
      ]
     },
     "metadata": {},
     "output_type": "display_data"
    },
    {
     "name": "stdout",
     "output_type": "stream",
     "text": [
      "Oink!\n",
      "Oink!\n",
      "Oink!\n",
      "Oink!\n",
      "Oink!\n",
      "Oink!\n",
      "\n"
     ]
    }
   ],
   "source": [
    "import torch\n",
    "import torchbearer\n",
    "from torchbearer import callbacks\n",
    "\n",
    "PIGS = torchbearer.state_key('pigs')\n",
    "\n",
    "@callbacks.on_sample\n",
    "def step(state):\n",
    "    if state[torchbearer.BATCH] % 3 == 0:\n",
    "        state[PIGS] = 'fly'\n",
    "    else:\n",
    "        state[PIGS] = 'walk'\n",
    "\n",
    "@callbacks.only_if(lambda state: state[PIGS] == 'fly')  # ONLY IF\n",
    "@callbacks.on_step_training\n",
    "def check(state):\n",
    "    print('Oink!')\n",
    "    \n",
    "import torch.nn as nn\n",
    "\n",
    "class EmptyModel(nn.Module):\n",
    "    def forward(self, x):\n",
    "        return None\n",
    "\n",
    "from torchbearer import Trial\n",
    "\n",
    "trial = Trial(EmptyModel(), callbacks=[step, check], verbose=1).for_train_steps(18)\n",
    "_ = trial.run(1)"
   ]
  },
  {
   "cell_type": "markdown",
   "metadata": {},
   "source": [
    "That's about everything there is to know about callbacks in torchbearer, have a look at the other notebooks for some examples of how callbacks can be used in practice. We also haven't touched on all of the callbacks that are included with torchbearer, to learn about those have a look at the docs pages [here](https://torchbearer.readthedocs.io/en/latest/code/callbacks.html#)."
   ]
  }
 ],
 "metadata": {
  "kernelspec": {
   "display_name": "Python 3",
   "language": "python",
   "name": "python3"
  },
  "language_info": {
   "codemirror_mode": {
    "name": "ipython",
    "version": 3
   },
   "file_extension": ".py",
   "mimetype": "text/x-python",
   "name": "python",
   "nbconvert_exporter": "python",
   "pygments_lexer": "ipython3",
   "version": "3.6.8"
  }
 },
 "nbformat": 4,
 "nbformat_minor": 2
}
